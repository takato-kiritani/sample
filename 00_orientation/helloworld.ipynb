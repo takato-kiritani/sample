{
 "cells": [
  {
   "cell_type": "code",
   "execution_count": null,
   "id": "53a97c36",
   "metadata": {},
   "outputs": [
    {
     "name": "stdout",
     "output_type": "stream",
     "text": [
      "Hello! World\n"
     ]
    }
   ],
   "source": [
    "print(\"Hello! World\")\n",
    "print(\"こんにちは！　世界！\")\n",
    "print(\"開発を行ないます！\")"
   ]
  },
  {
   "cell_type": "code",
   "execution_count": null,
   "id": "795b0faf",
   "metadata": {},
   "outputs": [],
   "source": []
  }
 ],
 "metadata": {
  "kernelspec": {
   "display_name": ".venv",
   "language": "python",
   "name": "python3"
  },
  "language_info": {
   "codemirror_mode": {
    "name": "ipython",
    "version": 3
   },
   "file_extension": ".py",
   "mimetype": "text/x-python",
   "name": "python",
   "nbconvert_exporter": "python",
   "pygments_lexer": "ipython3",
   "version": "3.12.7"
  }
 },
 "nbformat": 4,
 "nbformat_minor": 5
}
